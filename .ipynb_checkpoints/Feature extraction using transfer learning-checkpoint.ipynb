{
 "cells": [
  {
   "cell_type": "code",
   "execution_count": 1,
   "id": "7b044927",
   "metadata": {},
   "outputs": [],
   "source": [
    "import tensorflow as tf\n",
    "import pandas as pd\n",
    "import os\n",
    "from tensorflow.keras.models import Model\n",
    "\n",
    "from sklearn.model_selection import train_test_split\n",
    "from sklearn.svm import SVC\n",
    "from sklearn.model_selection import KFold, cross_val_score\n",
    "\n",
    "from sklearn.metrics import accuracy_score, confusion_matrix, classification_report, confusion_matrix, ConfusionMatrixDisplay\n",
    "\n",
    "from sklearn.preprocessing import MinMaxScaler\n",
    "\n",
    "import matplotlib.pyplot as plt\n",
    "\n",
    "from xgboost import XGBClassifier\n",
    "\n",
    "from sklearn.model_selection import GridSearchCV\n",
    "\n",
    "from sklearn.feature_selection import SelectKBest, f_classif"
   ]
  },
  {
   "cell_type": "markdown",
   "id": "ae1c6dd5",
   "metadata": {},
   "source": [
    "### Transfer Learning Using EfficientNetV2M: Extracting features from the penultimate layer"
   ]
  },
  {
   "cell_type": "code",
   "execution_count": null,
   "id": "70a60df0",
   "metadata": {},
   "outputs": [],
   "source": [
    "from tensorflow.keras.applications.efficientnet_v2 import EfficientNetV2M, preprocess_input\n",
    "os.environ[\"CUDA_VISIBLE_DEVICES\"] = \"-1\"\n",
    "\n",
    "base_model = EfficientNetV2M()\n",
    "feature_extractor = Model(inputs=base_model.inputs, outputs=base_model.layers[-2].output)\n",
    "feature_extractor.summary()"
   ]
  },
  {
   "cell_type": "markdown",
   "id": "4d96b56f",
   "metadata": {},
   "source": [
    "### Transfer Learning Using VGG16: Extracting features from the penultimate layer"
   ]
  },
  {
   "cell_type": "code",
   "execution_count": 2,
   "id": "65fb3bdd",
   "metadata": {
    "scrolled": true
   },
   "outputs": [
    {
     "name": "stdout",
     "output_type": "stream",
     "text": [
      "Model: \"model\"\n",
      "_________________________________________________________________\n",
      " Layer (type)                Output Shape              Param #   \n",
      "=================================================================\n",
      " input_1 (InputLayer)        [(None, 224, 224, 3)]     0         \n",
      "                                                                 \n",
      " block1_conv1 (Conv2D)       (None, 224, 224, 64)      1792      \n",
      "                                                                 \n",
      " block1_conv2 (Conv2D)       (None, 224, 224, 64)      36928     \n",
      "                                                                 \n",
      " block1_pool (MaxPooling2D)  (None, 112, 112, 64)      0         \n",
      "                                                                 \n",
      " block2_conv1 (Conv2D)       (None, 112, 112, 128)     73856     \n",
      "                                                                 \n",
      " block2_conv2 (Conv2D)       (None, 112, 112, 128)     147584    \n",
      "                                                                 \n",
      " block2_pool (MaxPooling2D)  (None, 56, 56, 128)       0         \n",
      "                                                                 \n",
      " block3_conv1 (Conv2D)       (None, 56, 56, 256)       295168    \n",
      "                                                                 \n",
      " block3_conv2 (Conv2D)       (None, 56, 56, 256)       590080    \n",
      "                                                                 \n",
      " block3_conv3 (Conv2D)       (None, 56, 56, 256)       590080    \n",
      "                                                                 \n",
      " block3_pool (MaxPooling2D)  (None, 28, 28, 256)       0         \n",
      "                                                                 \n",
      " block4_conv1 (Conv2D)       (None, 28, 28, 512)       1180160   \n",
      "                                                                 \n",
      " block4_conv2 (Conv2D)       (None, 28, 28, 512)       2359808   \n",
      "                                                                 \n",
      " block4_conv3 (Conv2D)       (None, 28, 28, 512)       2359808   \n",
      "                                                                 \n",
      " block4_pool (MaxPooling2D)  (None, 14, 14, 512)       0         \n",
      "                                                                 \n",
      " block5_conv1 (Conv2D)       (None, 14, 14, 512)       2359808   \n",
      "                                                                 \n",
      " block5_conv2 (Conv2D)       (None, 14, 14, 512)       2359808   \n",
      "                                                                 \n",
      " block5_conv3 (Conv2D)       (None, 14, 14, 512)       2359808   \n",
      "                                                                 \n",
      " block5_pool (MaxPooling2D)  (None, 7, 7, 512)         0         \n",
      "                                                                 \n",
      " flatten (Flatten)           (None, 25088)             0         \n",
      "                                                                 \n",
      " fc1 (Dense)                 (None, 4096)              102764544 \n",
      "                                                                 \n",
      " fc2 (Dense)                 (None, 4096)              16781312  \n",
      "                                                                 \n",
      "=================================================================\n",
      "Total params: 134,260,544\n",
      "Trainable params: 134,260,544\n",
      "Non-trainable params: 0\n",
      "_________________________________________________________________\n"
     ]
    }
   ],
   "source": [
    "from tensorflow.keras.applications.vgg16 import VGG16, preprocess_input\n",
    "\n",
    "base_model = VGG16()\n",
    "# base_model.inputs\n",
    "feature_extractor = Model(inputs=base_model.inputs, outputs=base_model.layers[-2].output)\n",
    "# feature_extractor.summary()"
   ]
  },
  {
   "cell_type": "markdown",
   "id": "e203fc41",
   "metadata": {},
   "source": [
    "### Transfer Learning Using ResNet50: Extracting features from the penultimate layer"
   ]
  },
  {
   "cell_type": "code",
   "execution_count": null,
   "id": "ef1d6268",
   "metadata": {},
   "outputs": [],
   "source": [
    "from tensorflow.keras.applications.resnet50 import ResNet50, preprocess_input\n",
    "\n",
    "model = ResNet50()\n",
    "# summarize the model\n",
    "feature_extractor = Model(inputs=model.inputs, outputs=model.layers[-2].output)\n",
    "feature_extractor.summary()"
   ]
  },
  {
   "cell_type": "markdown",
   "id": "ec8df0c0",
   "metadata": {},
   "source": [
    "### Transfer Learning Using NasNetLarge: Extracting features from the penultimate layer"
   ]
  },
  {
   "cell_type": "code",
   "execution_count": null,
   "id": "9cb0b6fe",
   "metadata": {},
   "outputs": [],
   "source": [
    "from tensorflow.keras.applications.nasnet import NASNetLarge, preprocess_input\n",
    "\n",
    "model = NASNetLarge()\n",
    "# summarize the model\n",
    "feature_extractor = Model(inputs=model.inputs, outputs=model.layers[-2].output)\n",
    "feature_extractor.summary()"
   ]
  },
  {
   "cell_type": "code",
   "execution_count": null,
   "id": "6e3f7dc5",
   "metadata": {},
   "outputs": [],
   "source": [
    "import os\n",
    "import cv2\n",
    "import numpy as np\n",
    "from tensorflow.keras.preprocessing.image import load_img, img_to_array\n",
    "from PIL import Image, ImageChops, ImageEnhance\n",
    "from tqdm import tqdm\n",
    "\n",
    "\n",
    "def calculate_ela(image_path, quality=80):\n",
    "    temp_filename = 'temp_file_name.jpg'\n",
    "    ela_filename = 'temp_ela.png'\n",
    "    \n",
    "    image = Image.open(image_path).convert('RGB')\n",
    "    image.save(temp_filename, 'JPEG', quality = quality)\n",
    "    temp_image = Image.open(temp_filename)\n",
    "    \n",
    "    ela_image = ImageChops.difference(image, temp_image)\n",
    "    \n",
    "    extrema = ela_image.getextrema()\n",
    "    max_diff = max([ex[1] for ex in extrema])\n",
    "    if max_diff == 0:\n",
    "        max_diff = 1\n",
    "    scale = 255.0 / max_diff\n",
    "    \n",
    "    ela_image = ImageEnhance.Brightness(ela_image).enhance(scale)\n",
    "    return ela_image\n",
    "    \n",
    "\n",
    "def prepare_image(image_path):\n",
    "    image_size = (224, 224)\n",
    "    img = np.array(calculate_ela(image_path, 80).resize(image_size))\n",
    "    r, g, b = img[:,:,0], img[:,:,1], img[:,:,2]\n",
    "\n",
    "    r_filtered = freq_process(r)\n",
    "    g_filtered = freq_process(g)  \n",
    "    b_filtered = freq_process(b)\n",
    "\n",
    "    enhanced_img = np.dstack((r_filtered, g_filtered, b_filtered))\n",
    "    return enhanced_img / 255\n",
    "\n",
    "\n",
    "def freq_process(img):\n",
    "    img_fft = np.fft.fft2(img)\n",
    "\n",
    "    img_fft_shifted = np.fft.fftshift(img_fft)  \n",
    "\n",
    "    rows, cols = img.shape\n",
    "    crow, ccol = int(rows/2), int(cols/2) \n",
    "    sigma = 50\n",
    "    gauss_filt = gaussian_filter(img, sigma)\n",
    "    fft_gauss = np.fft.fftshift(np.fft.fft2(gauss_filt))\n",
    "    fft_mask = np.ones((rows, cols))  \n",
    "    fft_mask[crow-30:crow+30, ccol-30:ccol+30] = 0\n",
    "    high_pass_filter = 1 - fft_mask * fft_gauss\n",
    "\n",
    "    # Apply filter\n",
    "    img_fft_shifted = img_fft_shifted * high_pass_filter\n",
    "    img_enhanced = np.fft.ifft2(np.fft.ifftshift(img_fft_shifted))\n",
    "    return img_enhanced\n",
    "    \n",
    "\n",
    "def get_features(directory):\n",
    "    feature_vector = list()\n",
    "    target_size = (224, 224)\n",
    "    \n",
    "    for folder in ['/au/', '/tp/']:\n",
    "        for image in tqdm(os.listdir(directory + folder)):\n",
    "            if 'jpg' not in image and 'jpeg' not in image:\n",
    "                continue\n",
    "                \n",
    "            image_path = directory + folder + image\n",
    "            try:\n",
    "                calculate_ela(image_path)\n",
    "                img = load_img('temp_ela.jpg', target_size=target_size)\n",
    "                os.remove('temp_ela.jpg')\n",
    "            except:\n",
    "                print(image_path)\n",
    "                continue\n",
    "            \n",
    "#             img = img_to_array(img)\n",
    "            img = img.reshape((1, *(target_size), 3))\n",
    "#             img = preprocess_input(img)\n",
    "            feature = feature_extractor.predict(img, verbose=0)\n",
    "            feature_vector.append(([0] if 'au' in folder else [1]) + list(feature[0]))\n",
    "\n",
    "\n",
    "    return pd.DataFrame(feature_vector)\n",
    "directory_MICC_F2000 = '../Data/MICC-F2000/'\n",
    "df = get_features(directory_MICC_F2000)"
   ]
  },
  {
   "cell_type": "code",
   "execution_count": 4,
   "id": "68cb6696",
   "metadata": {},
   "outputs": [],
   "source": [
    "def evaluate(y_test, predictions):\n",
    "    print(accuracy_score(y_test, predictions))\n",
    "    print(classification_report(y_test, predictions))\n",
    "    cm = confusion_matrix(y_test, predictions)\n",
    "    disp = ConfusionMatrixDisplay(confusion_matrix=cm)\n",
    "    disp.plot()\n",
    "    plt.show()"
   ]
  },
  {
   "cell_type": "markdown",
   "id": "76960883",
   "metadata": {},
   "source": [
    "### MICC-F2000"
   ]
  },
  {
   "cell_type": "code",
   "execution_count": null,
   "id": "2eeef8f9",
   "metadata": {
    "scrolled": true
   },
   "outputs": [],
   "source": [
    "directory_MICC_F2000 = '../Data/MICC-F2000/'\n",
    "df = get_features(directory_MICC_F2000)"
   ]
  },
  {
   "cell_type": "code",
   "execution_count": 7,
   "id": "1769376b",
   "metadata": {},
   "outputs": [
    {
     "data": {
      "text/plain": [
       "(2000, 4097)"
      ]
     },
     "execution_count": 7,
     "metadata": {},
     "output_type": "execute_result"
    }
   ],
   "source": [
    "df.shape"
   ]
  },
  {
   "cell_type": "code",
   "execution_count": 8,
   "id": "5247e7f7",
   "metadata": {},
   "outputs": [
    {
     "data": {
      "text/html": [
       "<div>\n",
       "<style scoped>\n",
       "    .dataframe tbody tr th:only-of-type {\n",
       "        vertical-align: middle;\n",
       "    }\n",
       "\n",
       "    .dataframe tbody tr th {\n",
       "        vertical-align: top;\n",
       "    }\n",
       "\n",
       "    .dataframe thead th {\n",
       "        text-align: right;\n",
       "    }\n",
       "</style>\n",
       "<table border=\"1\" class=\"dataframe\">\n",
       "  <thead>\n",
       "    <tr style=\"text-align: right;\">\n",
       "      <th></th>\n",
       "      <th>0</th>\n",
       "      <th>1</th>\n",
       "      <th>2</th>\n",
       "      <th>3</th>\n",
       "      <th>4</th>\n",
       "      <th>5</th>\n",
       "      <th>6</th>\n",
       "      <th>7</th>\n",
       "      <th>8</th>\n",
       "      <th>9</th>\n",
       "      <th>...</th>\n",
       "      <th>4087</th>\n",
       "      <th>4088</th>\n",
       "      <th>4089</th>\n",
       "      <th>4090</th>\n",
       "      <th>4091</th>\n",
       "      <th>4092</th>\n",
       "      <th>4093</th>\n",
       "      <th>4094</th>\n",
       "      <th>4095</th>\n",
       "      <th>4096</th>\n",
       "    </tr>\n",
       "  </thead>\n",
       "  <tbody>\n",
       "    <tr>\n",
       "      <th>0</th>\n",
       "      <td>0</td>\n",
       "      <td>0.0</td>\n",
       "      <td>0.0</td>\n",
       "      <td>1.356115</td>\n",
       "      <td>0.0</td>\n",
       "      <td>0.516344</td>\n",
       "      <td>0.0</td>\n",
       "      <td>0.0</td>\n",
       "      <td>0.0</td>\n",
       "      <td>0.336769</td>\n",
       "      <td>...</td>\n",
       "      <td>0.000000</td>\n",
       "      <td>1.644864</td>\n",
       "      <td>0.890650</td>\n",
       "      <td>0.637074</td>\n",
       "      <td>0.675974</td>\n",
       "      <td>0.077491</td>\n",
       "      <td>0.531071</td>\n",
       "      <td>0.0</td>\n",
       "      <td>0.0</td>\n",
       "      <td>0.436426</td>\n",
       "    </tr>\n",
       "    <tr>\n",
       "      <th>1</th>\n",
       "      <td>0</td>\n",
       "      <td>0.0</td>\n",
       "      <td>0.0</td>\n",
       "      <td>1.352393</td>\n",
       "      <td>0.0</td>\n",
       "      <td>0.465959</td>\n",
       "      <td>0.0</td>\n",
       "      <td>0.0</td>\n",
       "      <td>0.0</td>\n",
       "      <td>0.342205</td>\n",
       "      <td>...</td>\n",
       "      <td>0.000000</td>\n",
       "      <td>1.598152</td>\n",
       "      <td>0.924850</td>\n",
       "      <td>0.735847</td>\n",
       "      <td>0.688578</td>\n",
       "      <td>0.032272</td>\n",
       "      <td>0.610149</td>\n",
       "      <td>0.0</td>\n",
       "      <td>0.0</td>\n",
       "      <td>0.426123</td>\n",
       "    </tr>\n",
       "    <tr>\n",
       "      <th>2</th>\n",
       "      <td>0</td>\n",
       "      <td>0.0</td>\n",
       "      <td>0.0</td>\n",
       "      <td>1.288568</td>\n",
       "      <td>0.0</td>\n",
       "      <td>0.443177</td>\n",
       "      <td>0.0</td>\n",
       "      <td>0.0</td>\n",
       "      <td>0.0</td>\n",
       "      <td>0.366383</td>\n",
       "      <td>...</td>\n",
       "      <td>0.000000</td>\n",
       "      <td>1.576057</td>\n",
       "      <td>0.892327</td>\n",
       "      <td>0.635497</td>\n",
       "      <td>0.707272</td>\n",
       "      <td>0.087511</td>\n",
       "      <td>0.588448</td>\n",
       "      <td>0.0</td>\n",
       "      <td>0.0</td>\n",
       "      <td>0.447805</td>\n",
       "    </tr>\n",
       "    <tr>\n",
       "      <th>3</th>\n",
       "      <td>0</td>\n",
       "      <td>0.0</td>\n",
       "      <td>0.0</td>\n",
       "      <td>1.299131</td>\n",
       "      <td>0.0</td>\n",
       "      <td>0.432312</td>\n",
       "      <td>0.0</td>\n",
       "      <td>0.0</td>\n",
       "      <td>0.0</td>\n",
       "      <td>0.335460</td>\n",
       "      <td>...</td>\n",
       "      <td>0.000000</td>\n",
       "      <td>1.583389</td>\n",
       "      <td>0.898172</td>\n",
       "      <td>0.660263</td>\n",
       "      <td>0.720819</td>\n",
       "      <td>0.098063</td>\n",
       "      <td>0.582500</td>\n",
       "      <td>0.0</td>\n",
       "      <td>0.0</td>\n",
       "      <td>0.431403</td>\n",
       "    </tr>\n",
       "    <tr>\n",
       "      <th>4</th>\n",
       "      <td>0</td>\n",
       "      <td>0.0</td>\n",
       "      <td>0.0</td>\n",
       "      <td>1.347919</td>\n",
       "      <td>0.0</td>\n",
       "      <td>0.463399</td>\n",
       "      <td>0.0</td>\n",
       "      <td>0.0</td>\n",
       "      <td>0.0</td>\n",
       "      <td>0.344617</td>\n",
       "      <td>...</td>\n",
       "      <td>0.001894</td>\n",
       "      <td>1.596485</td>\n",
       "      <td>0.911214</td>\n",
       "      <td>0.673154</td>\n",
       "      <td>0.651232</td>\n",
       "      <td>0.122738</td>\n",
       "      <td>0.571564</td>\n",
       "      <td>0.0</td>\n",
       "      <td>0.0</td>\n",
       "      <td>0.418372</td>\n",
       "    </tr>\n",
       "  </tbody>\n",
       "</table>\n",
       "<p>5 rows × 4097 columns</p>\n",
       "</div>"
      ],
      "text/plain": [
       "   0     1     2         3     4         5     6     7     8         9      \n",
       "0     0   0.0   0.0  1.356115   0.0  0.516344   0.0   0.0   0.0  0.336769  \\\n",
       "1     0   0.0   0.0  1.352393   0.0  0.465959   0.0   0.0   0.0  0.342205   \n",
       "2     0   0.0   0.0  1.288568   0.0  0.443177   0.0   0.0   0.0  0.366383   \n",
       "3     0   0.0   0.0  1.299131   0.0  0.432312   0.0   0.0   0.0  0.335460   \n",
       "4     0   0.0   0.0  1.347919   0.0  0.463399   0.0   0.0   0.0  0.344617   \n",
       "\n",
       "   ...      4087      4088      4089      4090      4091      4092      4093   \n",
       "0  ...  0.000000  1.644864  0.890650  0.637074  0.675974  0.077491  0.531071  \\\n",
       "1  ...  0.000000  1.598152  0.924850  0.735847  0.688578  0.032272  0.610149   \n",
       "2  ...  0.000000  1.576057  0.892327  0.635497  0.707272  0.087511  0.588448   \n",
       "3  ...  0.000000  1.583389  0.898172  0.660263  0.720819  0.098063  0.582500   \n",
       "4  ...  0.001894  1.596485  0.911214  0.673154  0.651232  0.122738  0.571564   \n",
       "\n",
       "   4094  4095      4096  \n",
       "0   0.0   0.0  0.436426  \n",
       "1   0.0   0.0  0.426123  \n",
       "2   0.0   0.0  0.447805  \n",
       "3   0.0   0.0  0.431403  \n",
       "4   0.0   0.0  0.418372  \n",
       "\n",
       "[5 rows x 4097 columns]"
      ]
     },
     "execution_count": 8,
     "metadata": {},
     "output_type": "execute_result"
    }
   ],
   "source": [
    "df.head()"
   ]
  },
  {
   "cell_type": "code",
   "execution_count": 9,
   "id": "10ef0c67",
   "metadata": {},
   "outputs": [],
   "source": [
    "scaler = MinMaxScaler() \n",
    "y = df.loc[:, 0]\n",
    "X = df.drop(columns=[0], axis=1)\n",
    "\n",
    "scaler.fit(X)\n",
    "X = scaler.transform(X)"
   ]
  },
  {
   "cell_type": "code",
   "execution_count": 10,
   "id": "40a920c6",
   "metadata": {},
   "outputs": [],
   "source": [
    "X_train, X_test, y_train, y_test = train_test_split(X, y, test_size=0.20, random_state=5)"
   ]
  },
  {
   "cell_type": "code",
   "execution_count": 11,
   "id": "ab5bd8f8",
   "metadata": {},
   "outputs": [],
   "source": [
    "# {'C': 10, 'degree': 3, 'gamma': 0.01, 'kernel': 'poly'}\n",
    "# model = SVC(C=10, degree=2, gamma=0.01, kernel='poly')\n",
    "from xgboost import XGBClassifier\n",
    "\n",
    "model = XGBClassifier()\n",
    "model.fit(X_train, y_train)\n",
    "predictions = model.predict(X_test)"
   ]
  },
  {
   "cell_type": "code",
   "execution_count": 12,
   "id": "49a6026f",
   "metadata": {},
   "outputs": [
    {
     "name": "stdout",
     "output_type": "stream",
     "text": [
      "0.9625\n",
      "              precision    recall  f1-score   support\n",
      "\n",
      "           0       0.99      0.95      0.97       259\n",
      "           1       0.91      0.99      0.95       141\n",
      "\n",
      "    accuracy                           0.96       400\n",
      "   macro avg       0.95      0.97      0.96       400\n",
      "weighted avg       0.96      0.96      0.96       400\n",
      "\n"
     ]
    },
    {
     "data": {
      "image/png": "[encoded data removed]",
      "text/plain": [
       "<Figure size 640x480 with 2 Axes>"
      ]
     },
     "metadata": {},
     "output_type": "display_data"
    }
   ],
   "source": [
    "evaluate(y_test, predictions)"
   ]
  },
  {
   "cell_type": "code",
   "execution_count": null,
   "id": "63c5e88e",
   "metadata": {
    "scrolled": true
   },
   "outputs": [],
   "source": [
    "# Training using selected features\n",
    "df_new = SelectKBest(f_classif, k=1400).fit_transform(X, y)\n",
    "print(X.shape, df_new.shape)"
   ]
  },
  {
   "cell_type": "code",
   "execution_count": null,
   "id": "5d47510c",
   "metadata": {},
   "outputs": [],
   "source": [
    "X_train, X_test, y_train, y_test = train_test_split(df_new, y, test_size=0.20, random_state=5)"
   ]
  },
  {
   "cell_type": "code",
   "execution_count": null,
   "id": "889222b6",
   "metadata": {},
   "outputs": [],
   "source": [
    "model = SVC(C=10, degree=2, gamma=0.01, kernel='poly')\n",
    "\n",
    "model.fit(X_train, y_train)\n",
    "predictions = model.predict(X_test)"
   ]
  },
  {
   "cell_type": "code",
   "execution_count": null,
   "id": "30794115",
   "metadata": {},
   "outputs": [],
   "source": [
    "evaluate(y_test, predictions)"
   ]
  },
  {
   "cell_type": "markdown",
   "id": "e4dfccc6",
   "metadata": {},
   "source": [
    "### CASIA 1.0"
   ]
  },
  {
   "cell_type": "code",
   "execution_count": 13,
   "id": "07a95481",
   "metadata": {},
   "outputs": [
    {
     "name": "stderr",
     "output_type": "stream",
     "text": [
      "  8%|██████▍                                                                          | 64/800 [00:38<07:18,  1.68it/s]"
     ]
    },
    {
     "name": "stdout",
     "output_type": "stream",
     "text": [
      "../Data/CASIA 1.0 dataset//au/Au_ani_0065.jpg\n"
     ]
    },
    {
     "name": "stderr",
     "output_type": "stream",
     "text": [
      " 19%|███████████████▎                                                                | 153/800 [01:28<05:37,  1.92it/s]"
     ]
    },
    {
     "name": "stdout",
     "output_type": "stream",
     "text": [
      "../Data/CASIA 1.0 dataset//au/Au_arc_0054.jpg\n"
     ]
    },
    {
     "name": "stderr",
     "output_type": "stream",
     "text": [
      " 60%|███████████████████████████████████████████████▉                                | 479/800 [04:06<02:26,  2.19it/s]"
     ]
    },
    {
     "name": "stdout",
     "output_type": "stream",
     "text": [
      "../Data/CASIA 1.0 dataset//au/Au_nat_0080.jpg\n"
     ]
    },
    {
     "name": "stderr",
     "output_type": "stream",
     "text": [
      "100%|████████████████████████████████████████████████████████████████████████████████| 800/800 [07:16<00:00,  1.83it/s]\n",
      "100%|████████████████████████████████████████████████████████████████████████████████| 921/921 [10:42<00:00,  1.43it/s]\n"
     ]
    }
   ],
   "source": [
    "directory_CASIA_10 = '../Data/CASIA 1.0 dataset/'\n",
    "df = get_features(directory_CASIA_10)"
   ]
  },
  {
   "cell_type": "code",
   "execution_count": 14,
   "id": "d00806da",
   "metadata": {},
   "outputs": [
    {
     "data": {
      "text/plain": [
       "(1708, 4097)"
      ]
     },
     "execution_count": 14,
     "metadata": {},
     "output_type": "execute_result"
    }
   ],
   "source": [
    "df.shape"
   ]
  },
  {
   "cell_type": "code",
   "execution_count": 15,
   "id": "5bb0a1c3",
   "metadata": {},
   "outputs": [
    {
     "data": {
      "text/html": [
       "<div>\n",
       "<style scoped>\n",
       "    .dataframe tbody tr th:only-of-type {\n",
       "        vertical-align: middle;\n",
       "    }\n",
       "\n",
       "    .dataframe tbody tr th {\n",
       "        vertical-align: top;\n",
       "    }\n",
       "\n",
       "    .dataframe thead th {\n",
       "        text-align: right;\n",
       "    }\n",
       "</style>\n",
       "<table border=\"1\" class=\"dataframe\">\n",
       "  <thead>\n",
       "    <tr style=\"text-align: right;\">\n",
       "      <th></th>\n",
       "      <th>1</th>\n",
       "      <th>2</th>\n",
       "      <th>3</th>\n",
       "      <th>4</th>\n",
       "      <th>5</th>\n",
       "      <th>6</th>\n",
       "      <th>7</th>\n",
       "      <th>8</th>\n",
       "      <th>9</th>\n",
       "      <th>10</th>\n",
       "      <th>...</th>\n",
       "      <th>4087</th>\n",
       "      <th>4088</th>\n",
       "      <th>4089</th>\n",
       "      <th>4090</th>\n",
       "      <th>4091</th>\n",
       "      <th>4092</th>\n",
       "      <th>4093</th>\n",
       "      <th>4094</th>\n",
       "      <th>4095</th>\n",
       "      <th>4096</th>\n",
       "    </tr>\n",
       "  </thead>\n",
       "  <tbody>\n",
       "    <tr>\n",
       "      <th>0</th>\n",
       "      <td>0.0</td>\n",
       "      <td>1.202302</td>\n",
       "      <td>0.858809</td>\n",
       "      <td>0.247183</td>\n",
       "      <td>0.148879</td>\n",
       "      <td>0.531189</td>\n",
       "      <td>0.320942</td>\n",
       "      <td>0.0</td>\n",
       "      <td>0.191305</td>\n",
       "      <td>0.0</td>\n",
       "      <td>...</td>\n",
       "      <td>0.348909</td>\n",
       "      <td>0.099328</td>\n",
       "      <td>0.455924</td>\n",
       "      <td>0.000000</td>\n",
       "      <td>0.997588</td>\n",
       "      <td>1.328276</td>\n",
       "      <td>1.078137</td>\n",
       "      <td>0.0</td>\n",
       "      <td>0.0</td>\n",
       "      <td>0.089428</td>\n",
       "    </tr>\n",
       "    <tr>\n",
       "      <th>1</th>\n",
       "      <td>0.0</td>\n",
       "      <td>0.619071</td>\n",
       "      <td>0.000000</td>\n",
       "      <td>0.878242</td>\n",
       "      <td>0.000000</td>\n",
       "      <td>0.000000</td>\n",
       "      <td>1.363943</td>\n",
       "      <td>0.0</td>\n",
       "      <td>0.000000</td>\n",
       "      <td>0.0</td>\n",
       "      <td>...</td>\n",
       "      <td>0.000000</td>\n",
       "      <td>0.000000</td>\n",
       "      <td>0.916154</td>\n",
       "      <td>0.000000</td>\n",
       "      <td>0.587847</td>\n",
       "      <td>2.060640</td>\n",
       "      <td>1.106342</td>\n",
       "      <td>0.0</td>\n",
       "      <td>0.0</td>\n",
       "      <td>0.000000</td>\n",
       "    </tr>\n",
       "    <tr>\n",
       "      <th>2</th>\n",
       "      <td>0.0</td>\n",
       "      <td>0.345135</td>\n",
       "      <td>0.615797</td>\n",
       "      <td>0.000000</td>\n",
       "      <td>0.000000</td>\n",
       "      <td>2.105251</td>\n",
       "      <td>1.560729</td>\n",
       "      <td>0.0</td>\n",
       "      <td>0.000000</td>\n",
       "      <td>0.0</td>\n",
       "      <td>...</td>\n",
       "      <td>0.179661</td>\n",
       "      <td>0.000000</td>\n",
       "      <td>0.032425</td>\n",
       "      <td>0.163506</td>\n",
       "      <td>0.556751</td>\n",
       "      <td>1.470330</td>\n",
       "      <td>1.154547</td>\n",
       "      <td>0.0</td>\n",
       "      <td>0.0</td>\n",
       "      <td>0.000000</td>\n",
       "    </tr>\n",
       "    <tr>\n",
       "      <th>3</th>\n",
       "      <td>0.0</td>\n",
       "      <td>0.458262</td>\n",
       "      <td>1.460539</td>\n",
       "      <td>0.176270</td>\n",
       "      <td>0.000000</td>\n",
       "      <td>1.616017</td>\n",
       "      <td>1.756065</td>\n",
       "      <td>0.0</td>\n",
       "      <td>0.000000</td>\n",
       "      <td>0.0</td>\n",
       "      <td>...</td>\n",
       "      <td>0.333037</td>\n",
       "      <td>0.276507</td>\n",
       "      <td>0.000000</td>\n",
       "      <td>0.606971</td>\n",
       "      <td>0.202005</td>\n",
       "      <td>0.995773</td>\n",
       "      <td>1.227353</td>\n",
       "      <td>0.0</td>\n",
       "      <td>0.0</td>\n",
       "      <td>0.000000</td>\n",
       "    </tr>\n",
       "    <tr>\n",
       "      <th>4</th>\n",
       "      <td>0.0</td>\n",
       "      <td>0.692121</td>\n",
       "      <td>0.980543</td>\n",
       "      <td>0.290235</td>\n",
       "      <td>0.546538</td>\n",
       "      <td>0.401572</td>\n",
       "      <td>0.000000</td>\n",
       "      <td>0.0</td>\n",
       "      <td>0.710866</td>\n",
       "      <td>0.0</td>\n",
       "      <td>...</td>\n",
       "      <td>0.612948</td>\n",
       "      <td>0.472990</td>\n",
       "      <td>0.718351</td>\n",
       "      <td>0.095451</td>\n",
       "      <td>0.595789</td>\n",
       "      <td>1.030007</td>\n",
       "      <td>0.769975</td>\n",
       "      <td>0.0</td>\n",
       "      <td>0.0</td>\n",
       "      <td>0.589249</td>\n",
       "    </tr>\n",
       "  </tbody>\n",
       "</table>\n",
       "<p>5 rows × 4096 columns</p>\n",
       "</div>"
      ],
      "text/plain": [
       "   1         2         3         4         5         6         7     8      \n",
       "0   0.0  1.202302  0.858809  0.247183  0.148879  0.531189  0.320942   0.0  \\\n",
       "1   0.0  0.619071  0.000000  0.878242  0.000000  0.000000  1.363943   0.0   \n",
       "2   0.0  0.345135  0.615797  0.000000  0.000000  2.105251  1.560729   0.0   \n",
       "3   0.0  0.458262  1.460539  0.176270  0.000000  1.616017  1.756065   0.0   \n",
       "4   0.0  0.692121  0.980543  0.290235  0.546538  0.401572  0.000000   0.0   \n",
       "\n",
       "       9     10    ...      4087      4088      4089      4090      4091   \n",
       "0  0.191305   0.0  ...  0.348909  0.099328  0.455924  0.000000  0.997588  \\\n",
       "1  0.000000   0.0  ...  0.000000  0.000000  0.916154  0.000000  0.587847   \n",
       "2  0.000000   0.0  ...  0.179661  0.000000  0.032425  0.163506  0.556751   \n",
       "3  0.000000   0.0  ...  0.333037  0.276507  0.000000  0.606971  0.202005   \n",
       "4  0.710866   0.0  ...  0.612948  0.472990  0.718351  0.095451  0.595789   \n",
       "\n",
       "       4092      4093  4094  4095      4096  \n",
       "0  1.328276  1.078137   0.0   0.0  0.089428  \n",
       "1  2.060640  1.106342   0.0   0.0  0.000000  \n",
       "2  1.470330  1.154547   0.0   0.0  0.000000  \n",
       "3  0.995773  1.227353   0.0   0.0  0.000000  \n",
       "4  1.030007  0.769975   0.0   0.0  0.589249  \n",
       "\n",
       "[5 rows x 4096 columns]"
      ]
     },
     "metadata": {},
     "output_type": "display_data"
    }
   ],
   "source": [
    "scaler = MinMaxScaler() \n",
    "y = df.loc[:, 0]\n",
    "X = df.drop(columns=[0], axis=1)\n",
    "\n",
    "scaler.fit(X)\n",
    "display(X.head())\n",
    "X = scaler.transform(X)"
   ]
  },
  {
   "cell_type": "code",
   "execution_count": 16,
   "id": "0f4ae508",
   "metadata": {},
   "outputs": [],
   "source": [
    "X_train, X_test, y_train, y_test = train_test_split(X, y, test_size=0.20, random_state=5)"
   ]
  },
  {
   "cell_type": "code",
   "execution_count": 17,
   "id": "39e5b944",
   "metadata": {},
   "outputs": [],
   "source": [
    "# model = SVC(kernel='rbf')  \n",
    "model = XGBClassifier()\n",
    "model.fit(X_train, y_train) \n",
    "predictions = model.predict(X_test)"
   ]
  },
  {
   "cell_type": "code",
   "execution_count": 18,
   "id": "0f39f897",
   "metadata": {},
   "outputs": [
    {
     "name": "stdout",
     "output_type": "stream",
     "text": [
      "0.7134502923976608\n",
      "              precision    recall  f1-score   support\n",
      "\n",
      "           0       0.70      0.59      0.64       147\n",
      "           1       0.72      0.81      0.76       195\n",
      "\n",
      "    accuracy                           0.71       342\n",
      "   macro avg       0.71      0.70      0.70       342\n",
      "weighted avg       0.71      0.71      0.71       342\n",
      "\n"
     ]
    },
    {
     "data": {
      "image/png": "[encoded data removed]",
      "text/plain": [
       "<Figure size 640x480 with 2 Axes>"
      ]
     },
     "metadata": {},
     "output_type": "display_data"
    }
   ],
   "source": [
    "# 80%->0.82267, 85%->0.762318, 87%->0.820289, 89->0.7275362, 93%->0.7594202,77%->0.79420289, 82%->0.762318840, 81%->0.773913043\n",
    "# 79%->0.736231\n",
    "\n",
    "# grayscale@80% ela->0.811046511\n",
    "evaluate(y_test, predictions)"
   ]
  },
  {
   "cell_type": "markdown",
   "id": "c30a98a6",
   "metadata": {},
   "source": [
    "### CASIA 2"
   ]
  },
  {
   "cell_type": "code",
   "execution_count": null,
   "id": "b81b3cd0",
   "metadata": {
    "scrolled": false
   },
   "outputs": [],
   "source": [
    "directory_CASIA_2 = '../Data/CASIA2'\n",
    "df = get_features(directory_CASIA_2)"
   ]
  },
  {
   "cell_type": "code",
   "execution_count": 5,
   "id": "0aac2b88",
   "metadata": {},
   "outputs": [
    {
     "data": {
      "text/html": [
       "<div>\n",
       "<style scoped>\n",
       "    .dataframe tbody tr th:only-of-type {\n",
       "        vertical-align: middle;\n",
       "    }\n",
       "\n",
       "    .dataframe tbody tr th {\n",
       "        vertical-align: top;\n",
       "    }\n",
       "\n",
       "    .dataframe thead th {\n",
       "        text-align: right;\n",
       "    }\n",
       "</style>\n",
       "<table border=\"1\" class=\"dataframe\">\n",
       "  <thead>\n",
       "    <tr style=\"text-align: right;\">\n",
       "      <th></th>\n",
       "      <th>1</th>\n",
       "      <th>2</th>\n",
       "      <th>3</th>\n",
       "      <th>4</th>\n",
       "      <th>5</th>\n",
       "      <th>6</th>\n",
       "      <th>7</th>\n",
       "      <th>8</th>\n",
       "      <th>9</th>\n",
       "      <th>10</th>\n",
       "      <th>...</th>\n",
       "      <th>4087</th>\n",
       "      <th>4088</th>\n",
       "      <th>4089</th>\n",
       "      <th>4090</th>\n",
       "      <th>4091</th>\n",
       "      <th>4092</th>\n",
       "      <th>4093</th>\n",
       "      <th>4094</th>\n",
       "      <th>4095</th>\n",
       "      <th>4096</th>\n",
       "    </tr>\n",
       "  </thead>\n",
       "  <tbody>\n",
       "    <tr>\n",
       "      <th>0</th>\n",
       "      <td>0.0</td>\n",
       "      <td>0.0</td>\n",
       "      <td>1.323303</td>\n",
       "      <td>0.0</td>\n",
       "      <td>0.382743</td>\n",
       "      <td>0.000000</td>\n",
       "      <td>0.0</td>\n",
       "      <td>0.0</td>\n",
       "      <td>0.272961</td>\n",
       "      <td>0.0</td>\n",
       "      <td>...</td>\n",
       "      <td>0.0</td>\n",
       "      <td>1.669941</td>\n",
       "      <td>0.973317</td>\n",
       "      <td>0.716546</td>\n",
       "      <td>0.713553</td>\n",
       "      <td>0.000000</td>\n",
       "      <td>0.595858</td>\n",
       "      <td>0.0</td>\n",
       "      <td>0.0</td>\n",
       "      <td>0.458648</td>\n",
       "    </tr>\n",
       "    <tr>\n",
       "      <th>1</th>\n",
       "      <td>0.0</td>\n",
       "      <td>0.0</td>\n",
       "      <td>1.314482</td>\n",
       "      <td>0.0</td>\n",
       "      <td>0.374393</td>\n",
       "      <td>0.080690</td>\n",
       "      <td>0.0</td>\n",
       "      <td>0.0</td>\n",
       "      <td>0.140903</td>\n",
       "      <td>0.0</td>\n",
       "      <td>...</td>\n",
       "      <td>0.0</td>\n",
       "      <td>1.587974</td>\n",
       "      <td>0.937440</td>\n",
       "      <td>0.548906</td>\n",
       "      <td>0.629472</td>\n",
       "      <td>0.095421</td>\n",
       "      <td>0.495456</td>\n",
       "      <td>0.0</td>\n",
       "      <td>0.0</td>\n",
       "      <td>0.469966</td>\n",
       "    </tr>\n",
       "    <tr>\n",
       "      <th>2</th>\n",
       "      <td>0.0</td>\n",
       "      <td>0.0</td>\n",
       "      <td>1.333825</td>\n",
       "      <td>0.0</td>\n",
       "      <td>0.473983</td>\n",
       "      <td>0.000000</td>\n",
       "      <td>0.0</td>\n",
       "      <td>0.0</td>\n",
       "      <td>0.178487</td>\n",
       "      <td>0.0</td>\n",
       "      <td>...</td>\n",
       "      <td>0.0</td>\n",
       "      <td>1.485624</td>\n",
       "      <td>1.005591</td>\n",
       "      <td>0.496943</td>\n",
       "      <td>0.668992</td>\n",
       "      <td>0.209244</td>\n",
       "      <td>0.552382</td>\n",
       "      <td>0.0</td>\n",
       "      <td>0.0</td>\n",
       "      <td>0.408192</td>\n",
       "    </tr>\n",
       "    <tr>\n",
       "      <th>3</th>\n",
       "      <td>0.0</td>\n",
       "      <td>0.0</td>\n",
       "      <td>1.343615</td>\n",
       "      <td>0.0</td>\n",
       "      <td>0.422353</td>\n",
       "      <td>0.015391</td>\n",
       "      <td>0.0</td>\n",
       "      <td>0.0</td>\n",
       "      <td>0.254647</td>\n",
       "      <td>0.0</td>\n",
       "      <td>...</td>\n",
       "      <td>0.0</td>\n",
       "      <td>1.636598</td>\n",
       "      <td>1.026179</td>\n",
       "      <td>0.651270</td>\n",
       "      <td>0.710039</td>\n",
       "      <td>0.035675</td>\n",
       "      <td>0.576423</td>\n",
       "      <td>0.0</td>\n",
       "      <td>0.0</td>\n",
       "      <td>0.396994</td>\n",
       "    </tr>\n",
       "    <tr>\n",
       "      <th>4</th>\n",
       "      <td>0.0</td>\n",
       "      <td>0.0</td>\n",
       "      <td>1.349687</td>\n",
       "      <td>0.0</td>\n",
       "      <td>0.519070</td>\n",
       "      <td>0.000000</td>\n",
       "      <td>0.0</td>\n",
       "      <td>0.0</td>\n",
       "      <td>0.330695</td>\n",
       "      <td>0.0</td>\n",
       "      <td>...</td>\n",
       "      <td>0.0</td>\n",
       "      <td>1.644725</td>\n",
       "      <td>1.151238</td>\n",
       "      <td>0.685685</td>\n",
       "      <td>0.757981</td>\n",
       "      <td>0.029407</td>\n",
       "      <td>0.686268</td>\n",
       "      <td>0.0</td>\n",
       "      <td>0.0</td>\n",
       "      <td>0.421245</td>\n",
       "    </tr>\n",
       "  </tbody>\n",
       "</table>\n",
       "<p>5 rows × 4096 columns</p>\n",
       "</div>"
      ],
      "text/plain": [
       "   1     2         3     4         5         6     7     8         9     10     \n",
       "0   0.0   0.0  1.323303   0.0  0.382743  0.000000   0.0   0.0  0.272961   0.0  \\\n",
       "1   0.0   0.0  1.314482   0.0  0.374393  0.080690   0.0   0.0  0.140903   0.0   \n",
       "2   0.0   0.0  1.333825   0.0  0.473983  0.000000   0.0   0.0  0.178487   0.0   \n",
       "3   0.0   0.0  1.343615   0.0  0.422353  0.015391   0.0   0.0  0.254647   0.0   \n",
       "4   0.0   0.0  1.349687   0.0  0.519070  0.000000   0.0   0.0  0.330695   0.0   \n",
       "\n",
       "   ...  4087      4088      4089      4090      4091      4092      4093   \n",
       "0  ...   0.0  1.669941  0.973317  0.716546  0.713553  0.000000  0.595858  \\\n",
       "1  ...   0.0  1.587974  0.937440  0.548906  0.629472  0.095421  0.495456   \n",
       "2  ...   0.0  1.485624  1.005591  0.496943  0.668992  0.209244  0.552382   \n",
       "3  ...   0.0  1.636598  1.026179  0.651270  0.710039  0.035675  0.576423   \n",
       "4  ...   0.0  1.644725  1.151238  0.685685  0.757981  0.029407  0.686268   \n",
       "\n",
       "   4094  4095      4096  \n",
       "0   0.0   0.0  0.458648  \n",
       "1   0.0   0.0  0.469966  \n",
       "2   0.0   0.0  0.408192  \n",
       "3   0.0   0.0  0.396994  \n",
       "4   0.0   0.0  0.421245  \n",
       "\n",
       "[5 rows x 4096 columns]"
      ]
     },
     "metadata": {},
     "output_type": "display_data"
    }
   ],
   "source": [
    "scaler = MinMaxScaler() \n",
    "y = df.loc[:, 0]\n",
    "X = df.drop(columns=[0], axis=1)\n",
    "\n",
    "scaler.fit(X)\n",
    "display(X.head())\n",
    "X = scaler.transform(X)"
   ]
  },
  {
   "cell_type": "code",
   "execution_count": 14,
   "id": "c95e5366",
   "metadata": {},
   "outputs": [],
   "source": [
    "# np.save('./Saved_numpy/X_casia2.npy', X)\n",
    "# np.save('./Saved_numpy/y_casia2.npy', y)\n",
    "\n",
    "X = np.load('./Saved_numpy/X_casia2.npy')\n",
    "y = np.load('./Saved_numpy/y_casia2.npy')"
   ]
  },
  {
   "cell_type": "code",
   "execution_count": 7,
   "id": "151a0ce1",
   "metadata": {},
   "outputs": [],
   "source": [
    "from sklearn.decomposition import PCA\n",
    "\n",
    "feature = np.array(X)\n",
    "pca = PCA(n_components=300)\n",
    "pca.fit(feature)\n",
    "X = pca.transform(feature)"
   ]
  },
  {
   "cell_type": "code",
   "execution_count": 15,
   "id": "9e0a4525",
   "metadata": {},
   "outputs": [],
   "source": [
    "X_train, X_test, y_train, y_test = train_test_split(X, y, test_size=0.20, random_state=5)"
   ]
  },
  {
   "cell_type": "code",
   "execution_count": 16,
   "id": "0ff4a87c",
   "metadata": {},
   "outputs": [],
   "source": [
    "# model = SVC(kernel='rbf')\n",
    "model = XGBClassifier()\n",
    "model.fit(X_train, y_train) \n",
    "predictions = model.predict(X_test)"
   ]
  },
  {
   "cell_type": "code",
   "execution_count": 17,
   "id": "167d07f3",
   "metadata": {},
   "outputs": [
    {
     "name": "stdout",
     "output_type": "stream",
     "text": [
      "0.8314829500396511\n",
      "              precision    recall  f1-score   support\n",
      "\n",
      "           0       0.86      0.86      0.86      1545\n",
      "           1       0.78      0.78      0.78       977\n",
      "\n",
      "    accuracy                           0.83      2522\n",
      "   macro avg       0.82      0.82      0.82      2522\n",
      "weighted avg       0.83      0.83      0.83      2522\n",
      "\n"
     ]
    },
    {
     "data": {
      "image/png": "[encoded data removed]",
      "text/plain": [
       "<Figure size 640x480 with 2 Axes>"
      ]
     },
     "metadata": {},
     "output_type": "display_data"
    }
   ],
   "source": [
    "evaluate(y_test, predictions)"
   ]
  },
  {
   "cell_type": "code",
   "execution_count": null,
   "id": "a1ecc386",
   "metadata": {
    "scrolled": true
   },
   "outputs": [],
   "source": [
    "from sklearn.model_selection import KFold\n",
    "\n",
    "parameters = {'kernel':['poly'], 'degree':[2, 3], 'C':[1, 10, 100, 500], 'gamma': [0.001, 0.001]}\n",
    "svc = SVC()\n",
    "clf = GridSearchCV(svc, parameters, scoring='accuracy', verbose=3, cv=KFold(n_splits=5, shuffle=True))\n",
    "res = clf.fit(X_train, y_train)"
   ]
  },
  {
   "cell_type": "code",
   "execution_count": null,
   "id": "86187a20",
   "metadata": {},
   "outputs": [],
   "source": [
    "print(\"Best: %f using %s\" % (res.best_score_, res.best_params_))"
   ]
  },
  {
   "cell_type": "code",
   "execution_count": null,
   "id": "fb77bdce",
   "metadata": {},
   "outputs": [],
   "source": [
    "model = SVC(kernel='poly', C=10, degree=2, gamma=0.01)\n",
    "model.fit(X_train, y_train) \n",
    "predictions = model.predict(X_test)"
   ]
  },
  {
   "cell_type": "code",
   "execution_count": null,
   "id": "fe092d4f",
   "metadata": {},
   "outputs": [],
   "source": [
    "evaluate(y_test, predictions)"
   ]
  },
  {
   "cell_type": "code",
   "execution_count": null,
   "id": "61ed66bf",
   "metadata": {},
   "outputs": [],
   "source": [
    "from sklearn.neural_network import MLPClassifier\n",
    "\n",
    "clf = MLPClassifier(random_state=1, max_iter=1000, learning_rate='adaptive').fit(X_train, y_train)\n",
    "predictions = clf.predict(X_test)\n",
    "\n",
    "evaluate(y_test, predictions)"
   ]
  },
  {
   "cell_type": "markdown",
   "id": "3c2894dc",
   "metadata": {},
   "source": [
    "### MICC 220"
   ]
  },
  {
   "cell_type": "code",
   "execution_count": 63,
   "id": "92dbb1b4",
   "metadata": {},
   "outputs": [
    {
     "name": "stderr",
     "output_type": "stream",
     "text": [
      "100%|██████████████████████████████████████████████████████████████████████████████████| 72/72 [00:12<00:00,  5.69it/s]\n",
      "100%|██████████████████████████████████████████████████████████████████████████████████| 80/80 [00:16<00:00,  4.98it/s]\n"
     ]
    }
   ],
   "source": [
    "directory_MICC_220 = '../Data/micc220/'\n",
    "df = get_features(directory_MICC_220)"
   ]
  },
  {
   "cell_type": "code",
   "execution_count": 64,
   "id": "cd674b08",
   "metadata": {},
   "outputs": [],
   "source": [
    "scaler = MinMaxScaler() \n",
    "y = df.loc[:, 0]\n",
    "X = df.drop(columns=[0], axis=1)\n",
    "\n",
    "scaler.fit(X)\n",
    "X = scaler.transform(X)"
   ]
  },
  {
   "cell_type": "code",
   "execution_count": 65,
   "id": "bbaae747",
   "metadata": {},
   "outputs": [],
   "source": [
    "X_train, X_test, y_train, y_test = train_test_split(X, y, test_size=0.20, random_state=5)"
   ]
  },
  {
   "cell_type": "code",
   "execution_count": 66,
   "id": "bcb789e8",
   "metadata": {},
   "outputs": [
    {
     "data": {
      "text/html": [
       "<style>#sk-container-id-1 {color: black;background-color: white;}#sk-container-id-1 pre{padding: 0;}#sk-container-id-1 div.sk-toggleable {background-color: white;}#sk-container-id-1 label.sk-toggleable__label {cursor: pointer;display: block;width: 100%;margin-bottom: 0;padding: 0.3em;box-sizing: border-box;text-align: center;}#sk-container-id-1 label.sk-toggleable__label-arrow:before {content: \"▸\";float: left;margin-right: 0.25em;color: #696969;}#sk-container-id-1 label.sk-toggleable__label-arrow:hover:before {color: black;}#sk-container-id-1 div.sk-estimator:hover label.sk-toggleable__label-arrow:before {color: black;}#sk-container-id-1 div.sk-toggleable__content {max-height: 0;max-width: 0;overflow: hidden;text-align: left;background-color: #f0f8ff;}#sk-container-id-1 div.sk-toggleable__content pre {margin: 0.2em;color: black;border-radius: 0.25em;background-color: #f0f8ff;}#sk-container-id-1 input.sk-toggleable__control:checked~div.sk-toggleable__content {max-height: 200px;max-width: 100%;overflow: auto;}#sk-container-id-1 input.sk-toggleable__control:checked~label.sk-toggleable__label-arrow:before {content: \"▾\";}#sk-container-id-1 div.sk-estimator input.sk-toggleable__control:checked~label.sk-toggleable__label {background-color: #d4ebff;}#sk-container-id-1 div.sk-label input.sk-toggleable__control:checked~label.sk-toggleable__label {background-color: #d4ebff;}#sk-container-id-1 input.sk-hidden--visually {border: 0;clip: rect(1px 1px 1px 1px);clip: rect(1px, 1px, 1px, 1px);height: 1px;margin: -1px;overflow: hidden;padding: 0;position: absolute;width: 1px;}#sk-container-id-1 div.sk-estimator {font-family: monospace;background-color: #f0f8ff;border: 1px dotted black;border-radius: 0.25em;box-sizing: border-box;margin-bottom: 0.5em;}#sk-container-id-1 div.sk-estimator:hover {background-color: #d4ebff;}#sk-container-id-1 div.sk-parallel-item::after {content: \"\";width: 100%;border-bottom: 1px solid gray;flex-grow: 1;}#sk-container-id-1 div.sk-label:hover label.sk-toggleable__label {background-color: #d4ebff;}#sk-container-id-1 div.sk-serial::before {content: \"\";position: absolute;border-left: 1px solid gray;box-sizing: border-box;top: 0;bottom: 0;left: 50%;z-index: 0;}#sk-container-id-1 div.sk-serial {display: flex;flex-direction: column;align-items: center;background-color: white;padding-right: 0.2em;padding-left: 0.2em;position: relative;}#sk-container-id-1 div.sk-item {position: relative;z-index: 1;}#sk-container-id-1 div.sk-parallel {display: flex;align-items: stretch;justify-content: center;background-color: white;position: relative;}#sk-container-id-1 div.sk-item::before, #sk-container-id-1 div.sk-parallel-item::before {content: \"\";position: absolute;border-left: 1px solid gray;box-sizing: border-box;top: 0;bottom: 0;left: 50%;z-index: -1;}#sk-container-id-1 div.sk-parallel-item {display: flex;flex-direction: column;z-index: 1;position: relative;background-color: white;}#sk-container-id-1 div.sk-parallel-item:first-child::after {align-self: flex-end;width: 50%;}#sk-container-id-1 div.sk-parallel-item:last-child::after {align-self: flex-start;width: 50%;}#sk-container-id-1 div.sk-parallel-item:only-child::after {width: 0;}#sk-container-id-1 div.sk-dashed-wrapped {border: 1px dashed gray;margin: 0 0.4em 0.5em 0.4em;box-sizing: border-box;padding-bottom: 0.4em;background-color: white;}#sk-container-id-1 div.sk-label label {font-family: monospace;font-weight: bold;display: inline-block;line-height: 1.2em;}#sk-container-id-1 div.sk-label-container {text-align: center;}#sk-container-id-1 div.sk-container {/* jupyter's `normalize.less` sets `[hidden] { display: none; }` but bootstrap.min.css set `[hidden] { display: none !important; }` so we also need the `!important` here to be able to override the default hidden behavior on the sphinx rendered scikit-learn.org. See: https://github.com/scikit-learn/scikit-learn/issues/21755 */display: inline-block !important;position: relative;}#sk-container-id-1 div.sk-text-repr-fallback {display: none;}</style><div id=\"sk-container-id-1\" class=\"sk-top-container\"><div class=\"sk-text-repr-fallback\"><pre>SVC()</pre><b>In a Jupyter environment, please rerun this cell to show the HTML representation or trust the notebook. <br />On GitHub, the HTML representation is unable to render, please try loading this page with nbviewer.org.</b></div><div class=\"sk-container\" hidden><div class=\"sk-item\"><div class=\"sk-estimator sk-toggleable\"><input class=\"sk-toggleable__control sk-hidden--visually\" id=\"sk-estimator-id-1\" type=\"checkbox\" checked><label for=\"sk-estimator-id-1\" class=\"sk-toggleable__label sk-toggleable__label-arrow\">SVC</label><div class=\"sk-toggleable__content\"><pre>SVC()</pre></div></div></div></div></div>"
      ],
      "text/plain": [
       "SVC()"
      ]
     },
     "execution_count": 66,
     "metadata": {},
     "output_type": "execute_result"
    }
   ],
   "source": [
    "model = SVC(kernel='rbf')\n",
    "model.fit(X_train, y_train) "
   ]
  },
  {
   "cell_type": "code",
   "execution_count": 67,
   "id": "5e5bfb0a",
   "metadata": {},
   "outputs": [],
   "source": [
    "predictions = model.predict(X_test)"
   ]
  },
  {
   "cell_type": "code",
   "execution_count": 68,
   "id": "d0bec01d",
   "metadata": {},
   "outputs": [
    {
     "name": "stdout",
     "output_type": "stream",
     "text": [
      "0.9354838709677419\n",
      "              precision    recall  f1-score   support\n",
      "\n",
      "           0       1.00      0.86      0.92        14\n",
      "           1       0.89      1.00      0.94        17\n",
      "\n",
      "    accuracy                           0.94        31\n",
      "   macro avg       0.95      0.93      0.93        31\n",
      "weighted avg       0.94      0.94      0.93        31\n",
      "\n"
     ]
    },
    {
     "data": {
      "image/png": "[encoded data removed]",
      "text/plain": [
       "<Figure size 640x480 with 2 Axes>"
      ]
     },
     "metadata": {},
     "output_type": "display_data"
    }
   ],
   "source": [
    "evaluate(y_test, predictions)"
   ]
  },
  {
   "cell_type": "code",
   "execution_count": 69,
   "id": "13968783",
   "metadata": {},
   "outputs": [
    {
     "name": "stdout",
     "output_type": "stream",
     "text": [
      "Fitting 10 folds for each of 24 candidates, totalling 240 fits\n",
      "[CV 1/10] END C=1, degree=2, gamma=0.1, kernel=poly;, score=0.923 total time=   0.0s\n",
      "[CV 2/10] END C=1, degree=2, gamma=0.1, kernel=poly;, score=0.917 total time=   0.0s\n",
      "[CV 3/10] END C=1, degree=2, gamma=0.1, kernel=poly;, score=0.750 total time=   0.0s\n",
      "[CV 4/10] END C=1, degree=2, gamma=0.1, kernel=poly;, score=0.917 total time=   0.0s\n",
      "[CV 5/10] END C=1, degree=2, gamma=0.1, kernel=poly;, score=0.917 total time=   0.0s\n",
      "[CV 6/10] END C=1, degree=2, gamma=0.1, kernel=poly;, score=1.000 total time=   0.0s\n",
      "[CV 7/10] END C=1, degree=2, gamma=0.1, kernel=poly;, score=0.917 total time=   0.0s\n",
      "[CV 8/10] END C=1, degree=2, gamma=0.1, kernel=poly;, score=0.917 total time=   0.0s\n",
      "[CV 9/10] END C=1, degree=2, gamma=0.1, kernel=poly;, score=0.917 total time=   0.0s\n",
      "[CV 10/10] END C=1, degree=2, gamma=0.1, kernel=poly;, score=0.833 total time=   0.0s\n",
      "[CV 1/10] END C=1, degree=2, gamma=0.01, kernel=poly;, score=0.923 total time=   0.0s\n",
      "[CV 2/10] END C=1, degree=2, gamma=0.01, kernel=poly;, score=1.000 total time=   0.0s\n",
      "[CV 3/10] END C=1, degree=2, gamma=0.01, kernel=poly;, score=0.917 total time=   0.0s\n",
      "[CV 4/10] END C=1, degree=2, gamma=0.01, kernel=poly;, score=1.000 total time=   0.0s\n",
      "[CV 5/10] END C=1, degree=2, gamma=0.01, kernel=poly;, score=0.917 total time=   0.0s\n",
      "[CV 6/10] END C=1, degree=2, gamma=0.01, kernel=poly;, score=1.000 total time=   0.0s\n",
      "[CV 7/10] END C=1, degree=2, gamma=0.01, kernel=poly;, score=0.917 total time=   0.0s\n",
      "[CV 8/10] END C=1, degree=2, gamma=0.01, kernel=poly;, score=0.917 total time=   0.0s\n",
      "[CV 9/10] END C=1, degree=2, gamma=0.01, kernel=poly;, score=0.917 total time=   0.0s\n",
      "[CV 10/10] END C=1, degree=2, gamma=0.01, kernel=poly;, score=0.833 total time=   0.0s\n",
      "[CV 1/10] END C=1, degree=2, gamma=0.01, kernel=poly;, score=0.923 total time=   0.0s\n",
      "[CV 2/10] END C=1, degree=2, gamma=0.01, kernel=poly;, score=1.000 total time=   0.0s\n",
      "[CV 3/10] END C=1, degree=2, gamma=0.01, kernel=poly;, score=0.917 total time=   0.0s\n",
      "[CV 4/10] END C=1, degree=2, gamma=0.01, kernel=poly;, score=1.000 total time=   0.0s\n",
      "[CV 5/10] END C=1, degree=2, gamma=0.01, kernel=poly;, score=0.917 total time=   0.0s\n",
      "[CV 6/10] END C=1, degree=2, gamma=0.01, kernel=poly;, score=1.000 total time=   0.0s\n",
      "[CV 7/10] END C=1, degree=2, gamma=0.01, kernel=poly;, score=0.917 total time=   0.0s\n",
      "[CV 8/10] END C=1, degree=2, gamma=0.01, kernel=poly;, score=0.917 total time=   0.0s\n",
      "[CV 9/10] END C=1, degree=2, gamma=0.01, kernel=poly;, score=0.917 total time=   0.0s\n",
      "[CV 10/10] END C=1, degree=2, gamma=0.01, kernel=poly;, score=0.833 total time=   0.0s\n",
      "[CV 1/10] END C=1, degree=3, gamma=0.1, kernel=poly;, score=0.846 total time=   0.0s\n",
      "[CV 2/10] END C=1, degree=3, gamma=0.1, kernel=poly;, score=0.917 total time=   0.0s\n",
      "[CV 3/10] END C=1, degree=3, gamma=0.1, kernel=poly;, score=0.750 total time=   0.0s\n",
      "[CV 4/10] END C=1, degree=3, gamma=0.1, kernel=poly;, score=1.000 total time=   0.0s\n",
      "[CV 5/10] END C=1, degree=3, gamma=0.1, kernel=poly;, score=0.917 total time=   0.0s\n",
      "[CV 6/10] END C=1, degree=3, gamma=0.1, kernel=poly;, score=1.000 total time=   0.0s\n",
      "[CV 7/10] END C=1, degree=3, gamma=0.1, kernel=poly;, score=0.833 total time=   0.0s\n",
      "[CV 8/10] END C=1, degree=3, gamma=0.1, kernel=poly;, score=0.917 total time=   0.0s\n",
      "[CV 9/10] END C=1, degree=3, gamma=0.1, kernel=poly;, score=0.917 total time=   0.0s\n",
      "[CV 10/10] END C=1, degree=3, gamma=0.1, kernel=poly;, score=0.833 total time=   0.0s\n",
      "[CV 1/10] END C=1, degree=3, gamma=0.01, kernel=poly;, score=0.846 total time=   0.0s\n",
      "[CV 2/10] END C=1, degree=3, gamma=0.01, kernel=poly;, score=0.917 total time=   0.0s\n",
      "[CV 3/10] END C=1, degree=3, gamma=0.01, kernel=poly;, score=0.917 total time=   0.0s\n",
      "[CV 4/10] END C=1, degree=3, gamma=0.01, kernel=poly;, score=1.000 total time=   0.0s\n",
      "[CV 5/10] END C=1, degree=3, gamma=0.01, kernel=poly;, score=0.917 total time=   0.0s\n",
      "[CV 6/10] END C=1, degree=3, gamma=0.01, kernel=poly;, score=1.000 total time=   0.0s\n",
      "[CV 7/10] END C=1, degree=3, gamma=0.01, kernel=poly;, score=0.917 total time=   0.0s\n",
      "[CV 8/10] END C=1, degree=3, gamma=0.01, kernel=poly;, score=0.917 total time=   0.0s\n",
      "[CV 9/10] END C=1, degree=3, gamma=0.01, kernel=poly;, score=0.917 total time=   0.0s\n",
      "[CV 10/10] END C=1, degree=3, gamma=0.01, kernel=poly;, score=0.833 total time=   0.0s\n",
      "[CV 1/10] END C=1, degree=3, gamma=0.01, kernel=poly;, score=0.846 total time=   0.0s\n",
      "[CV 2/10] END C=1, degree=3, gamma=0.01, kernel=poly;, score=0.917 total time=   0.0s\n",
      "[CV 3/10] END C=1, degree=3, gamma=0.01, kernel=poly;, score=0.917 total time=   0.0s\n",
      "[CV 4/10] END C=1, degree=3, gamma=0.01, kernel=poly;, score=1.000 total time=   0.0s\n",
      "[CV 5/10] END C=1, degree=3, gamma=0.01, kernel=poly;, score=0.917 total time=   0.0s\n",
      "[CV 6/10] END C=1, degree=3, gamma=0.01, kernel=poly;, score=1.000 total time=   0.0s\n",
      "[CV 7/10] END C=1, degree=3, gamma=0.01, kernel=poly;, score=0.917 total time=   0.0s\n",
      "[CV 8/10] END C=1, degree=3, gamma=0.01, kernel=poly;, score=0.917 total time=   0.0s\n",
      "[CV 9/10] END C=1, degree=3, gamma=0.01, kernel=poly;, score=0.917 total time=   0.0s\n",
      "[CV 10/10] END C=1, degree=3, gamma=0.01, kernel=poly;, score=0.833 total time=   0.0s\n",
      "[CV 1/10] END C=10, degree=2, gamma=0.1, kernel=poly;, score=0.923 total time=   0.0s\n",
      "[CV 2/10] END C=10, degree=2, gamma=0.1, kernel=poly;, score=0.917 total time=   0.0s\n",
      "[CV 3/10] END C=10, degree=2, gamma=0.1, kernel=poly;, score=0.750 total time=   0.0s\n",
      "[CV 4/10] END C=10, degree=2, gamma=0.1, kernel=poly;, score=0.917 total time=   0.0s\n",
      "[CV 5/10] END C=10, degree=2, gamma=0.1, kernel=poly;, score=0.917 total time=   0.0s\n",
      "[CV 6/10] END C=10, degree=2, gamma=0.1, kernel=poly;, score=1.000 total time=   0.0s\n",
      "[CV 7/10] END C=10, degree=2, gamma=0.1, kernel=poly;, score=0.917 total time=   0.0s\n",
      "[CV 8/10] END C=10, degree=2, gamma=0.1, kernel=poly;, score=0.917 total time=   0.0s\n",
      "[CV 9/10] END C=10, degree=2, gamma=0.1, kernel=poly;, score=0.917 total time=   0.0s\n",
      "[CV 10/10] END C=10, degree=2, gamma=0.1, kernel=poly;, score=0.833 total time=   0.0s\n",
      "[CV 1/10] END C=10, degree=2, gamma=0.01, kernel=poly;, score=0.846 total time=   0.0s\n",
      "[CV 2/10] END C=10, degree=2, gamma=0.01, kernel=poly;, score=0.833 total time=   0.0s\n",
      "[CV 3/10] END C=10, degree=2, gamma=0.01, kernel=poly;, score=0.833 total time=   0.0s\n",
      "[CV 4/10] END C=10, degree=2, gamma=0.01, kernel=poly;, score=1.000 total time=   0.0s\n",
      "[CV 5/10] END C=10, degree=2, gamma=0.01, kernel=poly;, score=0.917 total time=   0.0s\n",
      "[CV 6/10] END C=10, degree=2, gamma=0.01, kernel=poly;, score=0.917 total time=   0.0s\n",
      "[CV 7/10] END C=10, degree=2, gamma=0.01, kernel=poly;, score=0.917 total time=   0.0s\n",
      "[CV 8/10] END C=10, degree=2, gamma=0.01, kernel=poly;, score=0.917 total time=   0.0s\n",
      "[CV 9/10] END C=10, degree=2, gamma=0.01, kernel=poly;, score=0.917 total time=   0.0s\n",
      "[CV 10/10] END C=10, degree=2, gamma=0.01, kernel=poly;, score=0.750 total time=   0.0s\n",
      "[CV 1/10] END C=10, degree=2, gamma=0.01, kernel=poly;, score=0.846 total time=   0.0s\n",
      "[CV 2/10] END C=10, degree=2, gamma=0.01, kernel=poly;, score=0.833 total time=   0.0s\n",
      "[CV 3/10] END C=10, degree=2, gamma=0.01, kernel=poly;, score=0.833 total time=   0.0s\n",
      "[CV 4/10] END C=10, degree=2, gamma=0.01, kernel=poly;, score=1.000 total time=   0.0s\n",
      "[CV 5/10] END C=10, degree=2, gamma=0.01, kernel=poly;, score=0.917 total time=   0.0s\n",
      "[CV 6/10] END C=10, degree=2, gamma=0.01, kernel=poly;, score=0.917 total time=   0.0s\n",
      "[CV 7/10] END C=10, degree=2, gamma=0.01, kernel=poly;, score=0.917 total time=   0.0s\n",
      "[CV 8/10] END C=10, degree=2, gamma=0.01, kernel=poly;, score=0.917 total time=   0.0s\n",
      "[CV 9/10] END C=10, degree=2, gamma=0.01, kernel=poly;, score=0.917 total time=   0.0s\n",
      "[CV 10/10] END C=10, degree=2, gamma=0.01, kernel=poly;, score=0.750 total time=   0.0s\n",
      "[CV 1/10] END C=10, degree=3, gamma=0.1, kernel=poly;, score=0.846 total time=   0.0s\n",
      "[CV 2/10] END C=10, degree=3, gamma=0.1, kernel=poly;, score=0.917 total time=   0.0s\n",
      "[CV 3/10] END C=10, degree=3, gamma=0.1, kernel=poly;, score=0.750 total time=   0.0s\n",
      "[CV 4/10] END C=10, degree=3, gamma=0.1, kernel=poly;, score=1.000 total time=   0.0s\n",
      "[CV 5/10] END C=10, degree=3, gamma=0.1, kernel=poly;, score=0.917 total time=   0.0s\n",
      "[CV 6/10] END C=10, degree=3, gamma=0.1, kernel=poly;, score=1.000 total time=   0.0s\n",
      "[CV 7/10] END C=10, degree=3, gamma=0.1, kernel=poly;, score=0.833 total time=   0.0s\n",
      "[CV 8/10] END C=10, degree=3, gamma=0.1, kernel=poly;, score=0.917 total time=   0.0s\n",
      "[CV 9/10] END C=10, degree=3, gamma=0.1, kernel=poly;, score=0.917 total time=   0.0s\n",
      "[CV 10/10] END C=10, degree=3, gamma=0.1, kernel=poly;, score=0.833 total time=   0.0s\n",
      "[CV 1/10] END C=10, degree=3, gamma=0.01, kernel=poly;, score=0.846 total time=   0.0s\n",
      "[CV 2/10] END C=10, degree=3, gamma=0.01, kernel=poly;, score=0.917 total time=   0.0s\n",
      "[CV 3/10] END C=10, degree=3, gamma=0.01, kernel=poly;, score=0.750 total time=   0.0s\n",
      "[CV 4/10] END C=10, degree=3, gamma=0.01, kernel=poly;, score=1.000 total time=   0.0s\n",
      "[CV 5/10] END C=10, degree=3, gamma=0.01, kernel=poly;, score=0.917 total time=   0.0s\n"
     ]
    },
    {
     "name": "stdout",
     "output_type": "stream",
     "text": [
      "[CV 6/10] END C=10, degree=3, gamma=0.01, kernel=poly;, score=1.000 total time=   0.0s\n",
      "[CV 7/10] END C=10, degree=3, gamma=0.01, kernel=poly;, score=0.833 total time=   0.0s\n",
      "[CV 8/10] END C=10, degree=3, gamma=0.01, kernel=poly;, score=0.917 total time=   0.0s\n",
      "[CV 9/10] END C=10, degree=3, gamma=0.01, kernel=poly;, score=0.917 total time=   0.0s\n",
      "[CV 10/10] END C=10, degree=3, gamma=0.01, kernel=poly;, score=0.833 total time=   0.0s\n",
      "[CV 1/10] END C=10, degree=3, gamma=0.01, kernel=poly;, score=0.846 total time=   0.0s\n",
      "[CV 2/10] END C=10, degree=3, gamma=0.01, kernel=poly;, score=0.917 total time=   0.0s\n",
      "[CV 3/10] END C=10, degree=3, gamma=0.01, kernel=poly;, score=0.750 total time=   0.0s\n",
      "[CV 4/10] END C=10, degree=3, gamma=0.01, kernel=poly;, score=1.000 total time=   0.0s\n",
      "[CV 5/10] END C=10, degree=3, gamma=0.01, kernel=poly;, score=0.917 total time=   0.0s\n",
      "[CV 6/10] END C=10, degree=3, gamma=0.01, kernel=poly;, score=1.000 total time=   0.0s\n",
      "[CV 7/10] END C=10, degree=3, gamma=0.01, kernel=poly;, score=0.833 total time=   0.0s\n",
      "[CV 8/10] END C=10, degree=3, gamma=0.01, kernel=poly;, score=0.917 total time=   0.0s\n",
      "[CV 9/10] END C=10, degree=3, gamma=0.01, kernel=poly;, score=0.917 total time=   0.0s\n",
      "[CV 10/10] END C=10, degree=3, gamma=0.01, kernel=poly;, score=0.833 total time=   0.0s\n",
      "[CV 1/10] END C=100, degree=2, gamma=0.1, kernel=poly;, score=0.923 total time=   0.0s\n",
      "[CV 2/10] END C=100, degree=2, gamma=0.1, kernel=poly;, score=0.917 total time=   0.0s\n",
      "[CV 3/10] END C=100, degree=2, gamma=0.1, kernel=poly;, score=0.750 total time=   0.0s\n",
      "[CV 4/10] END C=100, degree=2, gamma=0.1, kernel=poly;, score=0.917 total time=   0.0s\n",
      "[CV 5/10] END C=100, degree=2, gamma=0.1, kernel=poly;, score=0.917 total time=   0.0s\n",
      "[CV 6/10] END C=100, degree=2, gamma=0.1, kernel=poly;, score=1.000 total time=   0.0s\n",
      "[CV 7/10] END C=100, degree=2, gamma=0.1, kernel=poly;, score=0.917 total time=   0.0s\n",
      "[CV 8/10] END C=100, degree=2, gamma=0.1, kernel=poly;, score=0.917 total time=   0.0s\n",
      "[CV 9/10] END C=100, degree=2, gamma=0.1, kernel=poly;, score=0.917 total time=   0.0s\n",
      "[CV 10/10] END C=100, degree=2, gamma=0.1, kernel=poly;, score=0.833 total time=   0.0s\n",
      "[CV 1/10] END C=100, degree=2, gamma=0.01, kernel=poly;, score=0.923 total time=   0.0s\n",
      "[CV 2/10] END C=100, degree=2, gamma=0.01, kernel=poly;, score=0.917 total time=   0.0s\n",
      "[CV 3/10] END C=100, degree=2, gamma=0.01, kernel=poly;, score=0.750 total time=   0.0s\n",
      "[CV 4/10] END C=100, degree=2, gamma=0.01, kernel=poly;, score=0.917 total time=   0.0s\n",
      "[CV 5/10] END C=100, degree=2, gamma=0.01, kernel=poly;, score=0.917 total time=   0.0s\n",
      "[CV 6/10] END C=100, degree=2, gamma=0.01, kernel=poly;, score=1.000 total time=   0.0s\n",
      "[CV 7/10] END C=100, degree=2, gamma=0.01, kernel=poly;, score=0.917 total time=   0.0s\n",
      "[CV 8/10] END C=100, degree=2, gamma=0.01, kernel=poly;, score=0.917 total time=   0.0s\n",
      "[CV 9/10] END C=100, degree=2, gamma=0.01, kernel=poly;, score=0.917 total time=   0.0s\n",
      "[CV 10/10] END C=100, degree=2, gamma=0.01, kernel=poly;, score=0.833 total time=   0.0s\n",
      "[CV 1/10] END C=100, degree=2, gamma=0.01, kernel=poly;, score=0.923 total time=   0.0s\n",
      "[CV 2/10] END C=100, degree=2, gamma=0.01, kernel=poly;, score=0.917 total time=   0.0s\n",
      "[CV 3/10] END C=100, degree=2, gamma=0.01, kernel=poly;, score=0.750 total time=   0.0s\n",
      "[CV 4/10] END C=100, degree=2, gamma=0.01, kernel=poly;, score=0.917 total time=   0.0s\n",
      "[CV 5/10] END C=100, degree=2, gamma=0.01, kernel=poly;, score=0.917 total time=   0.0s\n",
      "[CV 6/10] END C=100, degree=2, gamma=0.01, kernel=poly;, score=1.000 total time=   0.0s\n",
      "[CV 7/10] END C=100, degree=2, gamma=0.01, kernel=poly;, score=0.917 total time=   0.0s\n",
      "[CV 8/10] END C=100, degree=2, gamma=0.01, kernel=poly;, score=0.917 total time=   0.0s\n",
      "[CV 9/10] END C=100, degree=2, gamma=0.01, kernel=poly;, score=0.917 total time=   0.0s\n",
      "[CV 10/10] END C=100, degree=2, gamma=0.01, kernel=poly;, score=0.833 total time=   0.0s\n",
      "[CV 1/10] END C=100, degree=3, gamma=0.1, kernel=poly;, score=0.846 total time=   0.0s\n",
      "[CV 2/10] END C=100, degree=3, gamma=0.1, kernel=poly;, score=0.917 total time=   0.0s\n",
      "[CV 3/10] END C=100, degree=3, gamma=0.1, kernel=poly;, score=0.750 total time=   0.0s\n",
      "[CV 4/10] END C=100, degree=3, gamma=0.1, kernel=poly;, score=1.000 total time=   0.0s\n",
      "[CV 5/10] END C=100, degree=3, gamma=0.1, kernel=poly;, score=0.917 total time=   0.0s\n",
      "[CV 6/10] END C=100, degree=3, gamma=0.1, kernel=poly;, score=1.000 total time=   0.0s\n",
      "[CV 7/10] END C=100, degree=3, gamma=0.1, kernel=poly;, score=0.833 total time=   0.0s\n",
      "[CV 8/10] END C=100, degree=3, gamma=0.1, kernel=poly;, score=0.917 total time=   0.0s\n",
      "[CV 9/10] END C=100, degree=3, gamma=0.1, kernel=poly;, score=0.917 total time=   0.0s\n",
      "[CV 10/10] END C=100, degree=3, gamma=0.1, kernel=poly;, score=0.833 total time=   0.0s\n",
      "[CV 1/10] END C=100, degree=3, gamma=0.01, kernel=poly;, score=0.846 total time=   0.0s\n",
      "[CV 2/10] END C=100, degree=3, gamma=0.01, kernel=poly;, score=0.917 total time=   0.0s\n",
      "[CV 3/10] END C=100, degree=3, gamma=0.01, kernel=poly;, score=0.750 total time=   0.0s\n",
      "[CV 4/10] END C=100, degree=3, gamma=0.01, kernel=poly;, score=1.000 total time=   0.0s\n",
      "[CV 5/10] END C=100, degree=3, gamma=0.01, kernel=poly;, score=0.917 total time=   0.0s\n",
      "[CV 6/10] END C=100, degree=3, gamma=0.01, kernel=poly;, score=1.000 total time=   0.0s\n",
      "[CV 7/10] END C=100, degree=3, gamma=0.01, kernel=poly;, score=0.833 total time=   0.0s\n",
      "[CV 8/10] END C=100, degree=3, gamma=0.01, kernel=poly;, score=0.917 total time=   0.0s\n",
      "[CV 9/10] END C=100, degree=3, gamma=0.01, kernel=poly;, score=0.917 total time=   0.0s\n",
      "[CV 10/10] END C=100, degree=3, gamma=0.01, kernel=poly;, score=0.833 total time=   0.0s\n",
      "[CV 1/10] END C=100, degree=3, gamma=0.01, kernel=poly;, score=0.846 total time=   0.0s\n",
      "[CV 2/10] END C=100, degree=3, gamma=0.01, kernel=poly;, score=0.917 total time=   0.0s\n",
      "[CV 3/10] END C=100, degree=3, gamma=0.01, kernel=poly;, score=0.750 total time=   0.0s\n",
      "[CV 4/10] END C=100, degree=3, gamma=0.01, kernel=poly;, score=1.000 total time=   0.0s\n",
      "[CV 5/10] END C=100, degree=3, gamma=0.01, kernel=poly;, score=0.917 total time=   0.0s\n",
      "[CV 6/10] END C=100, degree=3, gamma=0.01, kernel=poly;, score=1.000 total time=   0.0s\n",
      "[CV 7/10] END C=100, degree=3, gamma=0.01, kernel=poly;, score=0.833 total time=   0.0s\n",
      "[CV 8/10] END C=100, degree=3, gamma=0.01, kernel=poly;, score=0.917 total time=   0.0s\n",
      "[CV 9/10] END C=100, degree=3, gamma=0.01, kernel=poly;, score=0.917 total time=   0.0s\n",
      "[CV 10/10] END C=100, degree=3, gamma=0.01, kernel=poly;, score=0.833 total time=   0.0s\n",
      "[CV 1/10] END C=500, degree=2, gamma=0.1, kernel=poly;, score=0.923 total time=   0.0s\n",
      "[CV 2/10] END C=500, degree=2, gamma=0.1, kernel=poly;, score=0.917 total time=   0.0s\n",
      "[CV 3/10] END C=500, degree=2, gamma=0.1, kernel=poly;, score=0.750 total time=   0.0s\n",
      "[CV 4/10] END C=500, degree=2, gamma=0.1, kernel=poly;, score=0.917 total time=   0.0s\n",
      "[CV 5/10] END C=500, degree=2, gamma=0.1, kernel=poly;, score=0.917 total time=   0.0s\n",
      "[CV 6/10] END C=500, degree=2, gamma=0.1, kernel=poly;, score=1.000 total time=   0.0s\n",
      "[CV 7/10] END C=500, degree=2, gamma=0.1, kernel=poly;, score=0.917 total time=   0.0s\n",
      "[CV 8/10] END C=500, degree=2, gamma=0.1, kernel=poly;, score=0.917 total time=   0.0s\n",
      "[CV 9/10] END C=500, degree=2, gamma=0.1, kernel=poly;, score=0.917 total time=   0.0s\n",
      "[CV 10/10] END C=500, degree=2, gamma=0.1, kernel=poly;, score=0.833 total time=   0.0s\n",
      "[CV 1/10] END C=500, degree=2, gamma=0.01, kernel=poly;, score=0.923 total time=   0.0s\n",
      "[CV 2/10] END C=500, degree=2, gamma=0.01, kernel=poly;, score=0.917 total time=   0.0s\n",
      "[CV 3/10] END C=500, degree=2, gamma=0.01, kernel=poly;, score=0.750 total time=   0.0s\n",
      "[CV 4/10] END C=500, degree=2, gamma=0.01, kernel=poly;, score=0.917 total time=   0.0s\n",
      "[CV 5/10] END C=500, degree=2, gamma=0.01, kernel=poly;, score=0.917 total time=   0.0s\n",
      "[CV 6/10] END C=500, degree=2, gamma=0.01, kernel=poly;, score=1.000 total time=   0.0s\n",
      "[CV 7/10] END C=500, degree=2, gamma=0.01, kernel=poly;, score=0.917 total time=   0.0s\n",
      "[CV 8/10] END C=500, degree=2, gamma=0.01, kernel=poly;, score=0.917 total time=   0.0s\n",
      "[CV 9/10] END C=500, degree=2, gamma=0.01, kernel=poly;, score=0.917 total time=   0.0s\n",
      "[CV 10/10] END C=500, degree=2, gamma=0.01, kernel=poly;, score=0.833 total time=   0.0s\n",
      "[CV 1/10] END C=500, degree=2, gamma=0.01, kernel=poly;, score=0.923 total time=   0.0s\n",
      "[CV 2/10] END C=500, degree=2, gamma=0.01, kernel=poly;, score=0.917 total time=   0.0s\n",
      "[CV 3/10] END C=500, degree=2, gamma=0.01, kernel=poly;, score=0.750 total time=   0.0s\n",
      "[CV 4/10] END C=500, degree=2, gamma=0.01, kernel=poly;, score=0.917 total time=   0.0s\n",
      "[CV 5/10] END C=500, degree=2, gamma=0.01, kernel=poly;, score=0.917 total time=   0.0s\n",
      "[CV 6/10] END C=500, degree=2, gamma=0.01, kernel=poly;, score=1.000 total time=   0.0s\n"
     ]
    },
    {
     "name": "stdout",
     "output_type": "stream",
     "text": [
      "[CV 7/10] END C=500, degree=2, gamma=0.01, kernel=poly;, score=0.917 total time=   0.0s\n",
      "[CV 8/10] END C=500, degree=2, gamma=0.01, kernel=poly;, score=0.917 total time=   0.0s\n",
      "[CV 9/10] END C=500, degree=2, gamma=0.01, kernel=poly;, score=0.917 total time=   0.0s\n",
      "[CV 10/10] END C=500, degree=2, gamma=0.01, kernel=poly;, score=0.833 total time=   0.0s\n",
      "[CV 1/10] END C=500, degree=3, gamma=0.1, kernel=poly;, score=0.846 total time=   0.0s\n",
      "[CV 2/10] END C=500, degree=3, gamma=0.1, kernel=poly;, score=0.917 total time=   0.0s\n",
      "[CV 3/10] END C=500, degree=3, gamma=0.1, kernel=poly;, score=0.750 total time=   0.0s\n",
      "[CV 4/10] END C=500, degree=3, gamma=0.1, kernel=poly;, score=1.000 total time=   0.0s\n",
      "[CV 5/10] END C=500, degree=3, gamma=0.1, kernel=poly;, score=0.917 total time=   0.0s\n",
      "[CV 6/10] END C=500, degree=3, gamma=0.1, kernel=poly;, score=1.000 total time=   0.0s\n",
      "[CV 7/10] END C=500, degree=3, gamma=0.1, kernel=poly;, score=0.833 total time=   0.0s\n",
      "[CV 8/10] END C=500, degree=3, gamma=0.1, kernel=poly;, score=0.917 total time=   0.0s\n",
      "[CV 9/10] END C=500, degree=3, gamma=0.1, kernel=poly;, score=0.917 total time=   0.0s\n",
      "[CV 10/10] END C=500, degree=3, gamma=0.1, kernel=poly;, score=0.833 total time=   0.0s\n",
      "[CV 1/10] END C=500, degree=3, gamma=0.01, kernel=poly;, score=0.846 total time=   0.0s\n",
      "[CV 2/10] END C=500, degree=3, gamma=0.01, kernel=poly;, score=0.917 total time=   0.0s\n",
      "[CV 3/10] END C=500, degree=3, gamma=0.01, kernel=poly;, score=0.750 total time=   0.0s\n",
      "[CV 4/10] END C=500, degree=3, gamma=0.01, kernel=poly;, score=1.000 total time=   0.0s\n",
      "[CV 5/10] END C=500, degree=3, gamma=0.01, kernel=poly;, score=0.917 total time=   0.0s\n",
      "[CV 6/10] END C=500, degree=3, gamma=0.01, kernel=poly;, score=1.000 total time=   0.0s\n",
      "[CV 7/10] END C=500, degree=3, gamma=0.01, kernel=poly;, score=0.833 total time=   0.0s\n",
      "[CV 8/10] END C=500, degree=3, gamma=0.01, kernel=poly;, score=0.917 total time=   0.0s\n",
      "[CV 9/10] END C=500, degree=3, gamma=0.01, kernel=poly;, score=0.917 total time=   0.0s\n",
      "[CV 10/10] END C=500, degree=3, gamma=0.01, kernel=poly;, score=0.833 total time=   0.0s\n",
      "[CV 1/10] END C=500, degree=3, gamma=0.01, kernel=poly;, score=0.846 total time=   0.0s\n",
      "[CV 2/10] END C=500, degree=3, gamma=0.01, kernel=poly;, score=0.917 total time=   0.0s\n",
      "[CV 3/10] END C=500, degree=3, gamma=0.01, kernel=poly;, score=0.750 total time=   0.0s\n",
      "[CV 4/10] END C=500, degree=3, gamma=0.01, kernel=poly;, score=1.000 total time=   0.0s\n",
      "[CV 5/10] END C=500, degree=3, gamma=0.01, kernel=poly;, score=0.917 total time=   0.0s\n",
      "[CV 6/10] END C=500, degree=3, gamma=0.01, kernel=poly;, score=1.000 total time=   0.0s\n",
      "[CV 7/10] END C=500, degree=3, gamma=0.01, kernel=poly;, score=0.833 total time=   0.0s\n",
      "[CV 8/10] END C=500, degree=3, gamma=0.01, kernel=poly;, score=0.917 total time=   0.0s\n",
      "[CV 9/10] END C=500, degree=3, gamma=0.01, kernel=poly;, score=0.917 total time=   0.0s\n",
      "[CV 10/10] END C=500, degree=3, gamma=0.01, kernel=poly;, score=0.833 total time=   0.0s\n"
     ]
    }
   ],
   "source": [
    "from sklearn.model_selection import KFold\n",
    "\n",
    "parameters = {'kernel':['poly'], 'degree':[2, 3], 'C':[1, 10, 100, 500], 'gamma': [0.1, 0.01, 0.01]}\n",
    "svc = SVC()\n",
    "clf = GridSearchCV(svc, parameters, scoring='accuracy', verbose=3, cv=KFold(n_splits=10, shuffle=True))\n",
    "res = clf.fit(X_train, y_train)"
   ]
  },
  {
   "cell_type": "code",
   "execution_count": null,
   "id": "73a0d47d",
   "metadata": {},
   "outputs": [],
   "source": [
    "print(\"Best: %f using %s\" % (res.best_score_, res.best_params_))"
   ]
  },
  {
   "cell_type": "code",
   "execution_count": null,
   "id": "6edc9b60",
   "metadata": {},
   "outputs": [],
   "source": [
    "from sklearn.model_selection import KFold\n",
    "\n",
    "parameters = {'kernel':['poly'], 'degree':[2, 3], 'C':[1, 10, 100, 500], 'gamma': [0.1, 0.01, 0.01]}\n",
    "svc = SVC()\n",
    "clf = GridSearchCV(svc, parameters, scoring='accuracy', verbose=3, cv=KFold(n_splits=10, shuffle=True))\n",
    "opt_model = clf.fit(X_train, y_train)"
   ]
  },
  {
   "cell_type": "code",
   "execution_count": null,
   "id": "2d1a677f",
   "metadata": {
    "scrolled": false
   },
   "outputs": [],
   "source": [
    "print(\"Best: %f using %s\" % (opt_model.best_score_, opt_model.best_params_))"
   ]
  },
  {
   "cell_type": "markdown",
   "id": "23ec0b05",
   "metadata": {},
   "source": [
    "### IEEE IFS-TC"
   ]
  },
  {
   "cell_type": "code",
   "execution_count": 71,
   "id": "825890ba",
   "metadata": {
    "scrolled": true
   },
   "outputs": [
    {
     "name": "stderr",
     "output_type": "stream",
     "text": [
      "100%|█████████████████████████████████████████████████████████████████████████| 1050/1050 [00:00<00:00, 1052082.94it/s]\n",
      "100%|████████████████████████████████████████████████████████████████████████████████████████| 450/450 [00:00<?, ?it/s]\n"
     ]
    }
   ],
   "source": [
    "directory_MICC_220 = '../Data/IEEE IFS-TC/'\n",
    "df = get_features(directory_MICC_220)"
   ]
  },
  {
   "cell_type": "code",
   "execution_count": 72,
   "id": "27eca5a1",
   "metadata": {},
   "outputs": [
    {
     "ename": "KeyError",
     "evalue": "0",
     "output_type": "error",
     "traceback": [
      "\u001b[1;31m---------------------------------------------------------------------------\u001b[0m",
      "\u001b[1;31mValueError\u001b[0m                                Traceback (most recent call last)",
      "File \u001b[1;32md:\\asad\\document\\mltoolkit\\lib\\site-packages\\pandas\\core\\indexes\\range.py:345\u001b[0m, in \u001b[0;36mRangeIndex.get_loc\u001b[1;34m(self, key)\u001b[0m\n\u001b[0;32m    344\u001b[0m \u001b[38;5;28;01mtry\u001b[39;00m:\n\u001b[1;32m--> 345\u001b[0m     \u001b[38;5;28;01mreturn\u001b[39;00m \u001b[38;5;28;43mself\u001b[39;49m\u001b[38;5;241;43m.\u001b[39;49m\u001b[43m_range\u001b[49m\u001b[38;5;241;43m.\u001b[39;49m\u001b[43mindex\u001b[49m\u001b[43m(\u001b[49m\u001b[43mnew_key\u001b[49m\u001b[43m)\u001b[49m\n\u001b[0;32m    346\u001b[0m \u001b[38;5;28;01mexcept\u001b[39;00m \u001b[38;5;167;01mValueError\u001b[39;00m \u001b[38;5;28;01mas\u001b[39;00m err:\n",
      "\u001b[1;31mValueError\u001b[0m: 0 is not in range",
      "\nThe above exception was the direct cause of the following exception:\n",
      "\u001b[1;31mKeyError\u001b[0m                                  Traceback (most recent call last)",
      "Cell \u001b[1;32mIn[72], line 1\u001b[0m\n\u001b[1;32m----> 1\u001b[0m \u001b[38;5;28mlen\u001b[39m(\u001b[43mdf\u001b[49m\u001b[43m[\u001b[49m\u001b[38;5;241;43m0\u001b[39;49m\u001b[43m]\u001b[49m \u001b[38;5;241m==\u001b[39m \u001b[38;5;241m0\u001b[39m), \u001b[38;5;28mlen\u001b[39m(df[df[\u001b[38;5;241m0\u001b[39m] \u001b[38;5;241m==\u001b[39m \u001b[38;5;241m1\u001b[39m])\n",
      "File \u001b[1;32md:\\asad\\document\\mltoolkit\\lib\\site-packages\\pandas\\core\\frame.py:3761\u001b[0m, in \u001b[0;36mDataFrame.__getitem__\u001b[1;34m(self, key)\u001b[0m\n\u001b[0;32m   3759\u001b[0m \u001b[38;5;28;01mif\u001b[39;00m \u001b[38;5;28mself\u001b[39m\u001b[38;5;241m.\u001b[39mcolumns\u001b[38;5;241m.\u001b[39mnlevels \u001b[38;5;241m>\u001b[39m \u001b[38;5;241m1\u001b[39m:\n\u001b[0;32m   3760\u001b[0m     \u001b[38;5;28;01mreturn\u001b[39;00m \u001b[38;5;28mself\u001b[39m\u001b[38;5;241m.\u001b[39m_getitem_multilevel(key)\n\u001b[1;32m-> 3761\u001b[0m indexer \u001b[38;5;241m=\u001b[39m \u001b[38;5;28;43mself\u001b[39;49m\u001b[38;5;241;43m.\u001b[39;49m\u001b[43mcolumns\u001b[49m\u001b[38;5;241;43m.\u001b[39;49m\u001b[43mget_loc\u001b[49m\u001b[43m(\u001b[49m\u001b[43mkey\u001b[49m\u001b[43m)\u001b[49m\n\u001b[0;32m   3762\u001b[0m \u001b[38;5;28;01mif\u001b[39;00m is_integer(indexer):\n\u001b[0;32m   3763\u001b[0m     indexer \u001b[38;5;241m=\u001b[39m [indexer]\n",
      "File \u001b[1;32md:\\asad\\document\\mltoolkit\\lib\\site-packages\\pandas\\core\\indexes\\range.py:347\u001b[0m, in \u001b[0;36mRangeIndex.get_loc\u001b[1;34m(self, key)\u001b[0m\n\u001b[0;32m    345\u001b[0m         \u001b[38;5;28;01mreturn\u001b[39;00m \u001b[38;5;28mself\u001b[39m\u001b[38;5;241m.\u001b[39m_range\u001b[38;5;241m.\u001b[39mindex(new_key)\n\u001b[0;32m    346\u001b[0m     \u001b[38;5;28;01mexcept\u001b[39;00m \u001b[38;5;167;01mValueError\u001b[39;00m \u001b[38;5;28;01mas\u001b[39;00m err:\n\u001b[1;32m--> 347\u001b[0m         \u001b[38;5;28;01mraise\u001b[39;00m \u001b[38;5;167;01mKeyError\u001b[39;00m(key) \u001b[38;5;28;01mfrom\u001b[39;00m \u001b[38;5;21;01merr\u001b[39;00m\n\u001b[0;32m    348\u001b[0m \u001b[38;5;28;01mif\u001b[39;00m \u001b[38;5;28misinstance\u001b[39m(key, Hashable):\n\u001b[0;32m    349\u001b[0m     \u001b[38;5;28;01mraise\u001b[39;00m \u001b[38;5;167;01mKeyError\u001b[39;00m(key)\n",
      "\u001b[1;31mKeyError\u001b[0m: 0"
     ]
    }
   ],
   "source": [
    "len(df[0] == 0), len(df[df[0] == 1])"
   ]
  },
  {
   "cell_type": "code",
   "execution_count": null,
   "id": "417b25dd",
   "metadata": {},
   "outputs": [],
   "source": [
    "scaler = MinMaxScaler() \n",
    "y = df.loc[:, 0]\n",
    "X = df.drop(columns=[0], axis=1)\n",
    "\n",
    "scaler.fit(X)\n",
    "X = scaler.transform(X)"
   ]
  },
  {
   "cell_type": "code",
   "execution_count": null,
   "id": "c57d9768",
   "metadata": {},
   "outputs": [],
   "source": [
    "X_train, X_test, y_train, y_test = train_test_split(X, y, test_size=0.20, random_state=5)"
   ]
  },
  {
   "cell_type": "code",
   "execution_count": null,
   "id": "9292cdc5",
   "metadata": {},
   "outputs": [],
   "source": [
    "model = SVC(kernel='rbf')\n",
    "model.fit(X_train, y_train) \n",
    "predictions = model.predict(X_test)"
   ]
  },
  {
   "cell_type": "code",
   "execution_count": null,
   "id": "ed004851",
   "metadata": {},
   "outputs": [],
   "source": [
    "evaluate(y_test, predictions)"
   ]
  },
  {
   "cell_type": "code",
   "execution_count": null,
   "id": "595cb462",
   "metadata": {},
   "outputs": [],
   "source": []
  }
 ],
 "metadata": {
  "kernelspec": {
   "display_name": "Python 3 (ipykernel)",
   "language": "python",
   "name": "python3"
  },
  "language_info": {
   "codemirror_mode": {
    "name": "ipython",
    "version": 3
   },
   "file_extension": ".py",
   "mimetype": "text/x-python",
   "name": "python",
   "nbconvert_exporter": "python",
   "pygments_lexer": "ipython3",
   "version": "3.8.9"
  }
 },
 "nbformat": 4,
 "nbformat_minor": 5
}
